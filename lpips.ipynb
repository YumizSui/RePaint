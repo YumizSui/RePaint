{
 "cells": [
  {
   "cell_type": "code",
   "execution_count": 11,
   "id": "3d07a61a-e9ed-4bb8-9bd7-de8b717e5a04",
   "metadata": {},
   "outputs": [],
   "source": [
    "from glob import glob\n",
    "from tqdm import tqdm\n",
    "import os\n",
    "from scipy.stats import wilcoxon, ranksums"
   ]
  },
  {
   "cell_type": "code",
   "execution_count": null,
   "id": "9a67d283-d9de-47ad-a32d-9a9644d5ec22",
   "metadata": {},
   "outputs": [],
   "source": [
    "import lpips\n",
    "loss_fn_alex = lpips.LPIPS(net='alex')\n",
    "loss_fn_alex.eval()\n",
    ";"
   ]
  },
  {
   "cell_type": "code",
   "execution_count": 13,
   "id": "225c5583-cc99-49b6-b36e-4b8d1c5e1865",
   "metadata": {},
   "outputs": [],
   "source": [
    "import torch\n",
    "import torchvision.transforms.functional as TF\n",
    "from PIL import Image\n",
    "\n",
    "def get_lpips(original_path, inpaint_path):\n",
    "    img_original = Image.open(original_path)\n",
    "    img_original = (TF.to_tensor(img_original) - 0.5) * 2\n",
    "    img_original.unsqueeze(0)\n",
    "\n",
    "    img_inpaint = Image.open(inpaint_path)\n",
    "    img_inpaint = (TF.to_tensor(img_inpaint) - 0.5) * 2\n",
    "    img_inpaint.unsqueeze(0)\n",
    "\n",
    "    d = loss_fn_alex(img_original, img_inpaint).item()\n",
    "    # print(\"Perceptual loss\",d)\n",
    "    return d"
   ]
  },
  {
   "cell_type": "code",
   "execution_count": 14,
   "id": "0a2578d5-a68a-413a-96da-a138941b2826",
   "metadata": {},
   "outputs": [],
   "source": [
    "exps=['test_inet256_thin',\n",
    " 'test_inet256_thick',\n",
    " 'test_inet256_nn2',\n",
    " 'test_inet256_genhalf',\n",
    " 'test_inet256_ex64',\n",
    " 'test_inet256_ev2li']\n",
    "masks=['thin','thick','nn2','genhalf','ex64','ev2li']"
   ]
  },
  {
   "cell_type": "code",
   "execution_count": 20,
   "id": "c4feba4b-e742-4fe2-b83f-efc9edce16c5",
   "metadata": {},
   "outputs": [
    {
     "name": "stderr",
     "output_type": "stream",
     "text": [
      "100%|█| 100/100 [00:01<00:00, 70.6\n",
      "100%|█| 100/100 [00:01<00:00, 70.5\n",
      "100%|█| 100/100 [00:01<00:00, 72.5\n",
      "100%|█| 100/100 [00:01<00:00, 69.9\n",
      "100%|█| 100/100 [00:01<00:00, 71.0\n",
      "100%|█| 100/100 [00:01<00:00, 71.5\n"
     ]
    }
   ],
   "source": [
    "all_scores = {}\n",
    "for exp in exps:\n",
    "    scores=[]\n",
    "    for idx in tqdm(range(100)):\n",
    "        original_path = f'{workdir}/{exp}/gt/{idx:05d}.png'\n",
    "        inpaint_path = f'{workdir}/{exp}/inpainted/{idx:05d}.png'\n",
    "        score = get_lpips(original_path,inpaint_path)\n",
    "        scores+=[score]\n",
    "    all_scores[exp]=scores\n",
    "all_scores=all_scores=pd.DataFrame(all_scores)"
   ]
  },
  {
   "cell_type": "code",
   "execution_count": 13,
   "id": "86a4c5ab-d469-4dd8-9217-d028866b0bf9",
   "metadata": {},
   "outputs": [],
   "source": [
    "schedules = sorted(os.listdir(inet))"
   ]
  },
  {
   "cell_type": "code",
   "execution_count": 15,
   "id": "24b58213-1721-4f60-99e9-959a8c18fc5e",
   "metadata": {},
   "outputs": [],
   "source": [
    "import pandas as pd"
   ]
  },
  {
   "cell_type": "code",
   "execution_count": 83,
   "id": "0c09ce5b-ab26-4a7e-b09b-7b7d2a0ac501",
   "metadata": {},
   "outputs": [
    {
     "name": "stderr",
     "output_type": "stream",
     "text": [
      "100%|███████████████████████████████████████████████████████████████████████████████████████████████████████████████████████████████████████████████████████████████████████████████| 100/100 [00:02<00:00, 38.02it/s]\n",
      "100%|███████████████████████████████████████████████████████████████████████████████████████████████████████████████████████████████████████████████████████████████████████████████| 100/100 [00:02<00:00, 40.89it/s]\n",
      "100%|███████████████████████████████████████████████████████████████████████████████████████████████████████████████████████████████████████████████████████████████████████████████| 100/100 [00:02<00:00, 42.21it/s]\n",
      "100%|███████████████████████████████████████████████████████████████████████████████████████████████████████████████████████████████████████████████████████████████████████████████| 100/100 [00:02<00:00, 39.43it/s]\n",
      "100%|███████████████████████████████████████████████████████████████████████████████████████████████████████████████████████████████████████████████████████████████████████████████| 100/100 [00:02<00:00, 41.70it/s]\n",
      "100%|███████████████████████████████████████████████████████████████████████████████████████████████████████████████████████████████████████████████████████████████████████████████| 100/100 [00:02<00:00, 38.42it/s]\n"
     ]
    }
   ],
   "source": [
    "schedules=['j-10-10-r-1-10','j-10-10-r-2-10', 'j-10-10-r-5-10','j-10-10-r-10-1','j-10-10-r-10-2','j-10-10-r-10-5']\n",
    "all_scores = {}\n",
    "for schedule in schedules:\n",
    "    scores=[]\n",
    "    for idx in tqdm(range(100)):\n",
    "        original_path = f'{inet}/{schedule}/thick/gt/{idx:05d}.png'\n",
    "        inpaint_path = f'{inet}/{schedule}/thick/inpainted/{idx:05d}.png'\n",
    "        score = get_lpips(original_path,inpaint_path)\n",
    "        scores+=[score]\n",
    "    all_scores[schedule]=scores\n"
   ]
  },
  {
   "cell_type": "code",
   "execution_count": 89,
   "id": "c3145787-4ab8-4179-afbe-9a7eb1bfcf2a",
   "metadata": {},
   "outputs": [],
   "source": [
    "all_scores=pd.DataFrame(all_scores)"
   ]
  },
  {
   "cell_type": "code",
   "execution_count": 90,
   "id": "e206df42-d232-4956-b04b-483db92c762d",
   "metadata": {},
   "outputs": [],
   "source": [
    "df = pd.read_csv('result.csv',index_col=0)\n",
    "all_scores['j-10-10-r-10-10']=df['test_inet256_thick']"
   ]
  },
  {
   "cell_type": "code",
   "execution_count": 92,
   "id": "1c996d7c-0089-4c60-a325-a3635c8e5415",
   "metadata": {},
   "outputs": [],
   "source": [
    "all_scores.to_csv('inet-thick-schedules.csv')"
   ]
  },
  {
   "cell_type": "code",
   "execution_count": 94,
   "id": "ed767539-4c18-41ca-9c62-01fe3bef7eb6",
   "metadata": {},
   "outputs": [
    {
     "data": {
      "text/html": [
       "<div>\n",
       "<style scoped>\n",
       "    .dataframe tbody tr th:only-of-type {\n",
       "        vertical-align: middle;\n",
       "    }\n",
       "\n",
       "    .dataframe tbody tr th {\n",
       "        vertical-align: top;\n",
       "    }\n",
       "\n",
       "    .dataframe thead th {\n",
       "        text-align: right;\n",
       "    }\n",
       "</style>\n",
       "<table border=\"1\" class=\"dataframe\">\n",
       "  <thead>\n",
       "    <tr style=\"text-align: right;\">\n",
       "      <th></th>\n",
       "      <th>j-10-10-r-1-10</th>\n",
       "      <th>j-10-10-r-2-10</th>\n",
       "      <th>j-10-10-r-5-10</th>\n",
       "      <th>j-10-10-r-10-1</th>\n",
       "      <th>j-10-10-r-10-2</th>\n",
       "      <th>j-10-10-r-10-5</th>\n",
       "      <th>j-10-10-r-10-10</th>\n",
       "    </tr>\n",
       "  </thead>\n",
       "  <tbody>\n",
       "    <tr>\n",
       "      <th>0</th>\n",
       "      <td>0.030878</td>\n",
       "      <td>0.028117</td>\n",
       "      <td>0.024133</td>\n",
       "      <td>0.025310</td>\n",
       "      <td>0.024069</td>\n",
       "      <td>0.035052</td>\n",
       "      <td>0.025603</td>\n",
       "    </tr>\n",
       "    <tr>\n",
       "      <th>1</th>\n",
       "      <td>0.164693</td>\n",
       "      <td>0.112542</td>\n",
       "      <td>0.143484</td>\n",
       "      <td>0.133124</td>\n",
       "      <td>0.117784</td>\n",
       "      <td>0.122357</td>\n",
       "      <td>0.124681</td>\n",
       "    </tr>\n",
       "    <tr>\n",
       "      <th>2</th>\n",
       "      <td>0.133057</td>\n",
       "      <td>0.153495</td>\n",
       "      <td>0.163058</td>\n",
       "      <td>0.220379</td>\n",
       "      <td>0.165158</td>\n",
       "      <td>0.117178</td>\n",
       "      <td>0.117625</td>\n",
       "    </tr>\n",
       "    <tr>\n",
       "      <th>3</th>\n",
       "      <td>0.188815</td>\n",
       "      <td>0.153372</td>\n",
       "      <td>0.223446</td>\n",
       "      <td>0.173640</td>\n",
       "      <td>0.195069</td>\n",
       "      <td>0.169227</td>\n",
       "      <td>0.143714</td>\n",
       "    </tr>\n",
       "    <tr>\n",
       "      <th>4</th>\n",
       "      <td>0.290612</td>\n",
       "      <td>0.210483</td>\n",
       "      <td>0.273035</td>\n",
       "      <td>0.254397</td>\n",
       "      <td>0.314073</td>\n",
       "      <td>0.247100</td>\n",
       "      <td>0.253435</td>\n",
       "    </tr>\n",
       "    <tr>\n",
       "      <th>...</th>\n",
       "      <td>...</td>\n",
       "      <td>...</td>\n",
       "      <td>...</td>\n",
       "      <td>...</td>\n",
       "      <td>...</td>\n",
       "      <td>...</td>\n",
       "      <td>...</td>\n",
       "    </tr>\n",
       "    <tr>\n",
       "      <th>95</th>\n",
       "      <td>0.115642</td>\n",
       "      <td>0.122750</td>\n",
       "      <td>0.076433</td>\n",
       "      <td>0.155880</td>\n",
       "      <td>0.168996</td>\n",
       "      <td>0.151422</td>\n",
       "      <td>0.077891</td>\n",
       "    </tr>\n",
       "    <tr>\n",
       "      <th>96</th>\n",
       "      <td>0.241543</td>\n",
       "      <td>0.275714</td>\n",
       "      <td>0.224693</td>\n",
       "      <td>0.268536</td>\n",
       "      <td>0.225982</td>\n",
       "      <td>0.197910</td>\n",
       "      <td>0.285035</td>\n",
       "    </tr>\n",
       "    <tr>\n",
       "      <th>97</th>\n",
       "      <td>0.136516</td>\n",
       "      <td>0.203347</td>\n",
       "      <td>0.200389</td>\n",
       "      <td>0.133875</td>\n",
       "      <td>0.087239</td>\n",
       "      <td>0.107484</td>\n",
       "      <td>0.131692</td>\n",
       "    </tr>\n",
       "    <tr>\n",
       "      <th>98</th>\n",
       "      <td>0.367611</td>\n",
       "      <td>0.325589</td>\n",
       "      <td>0.366916</td>\n",
       "      <td>0.356516</td>\n",
       "      <td>0.322043</td>\n",
       "      <td>0.369391</td>\n",
       "      <td>0.368373</td>\n",
       "    </tr>\n",
       "    <tr>\n",
       "      <th>99</th>\n",
       "      <td>0.039696</td>\n",
       "      <td>0.034975</td>\n",
       "      <td>0.031937</td>\n",
       "      <td>0.046730</td>\n",
       "      <td>0.030743</td>\n",
       "      <td>0.037885</td>\n",
       "      <td>0.030962</td>\n",
       "    </tr>\n",
       "  </tbody>\n",
       "</table>\n",
       "<p>100 rows × 7 columns</p>\n",
       "</div>"
      ],
      "text/plain": [
       "    j-10-10-r-1-10  j-10-10-r-2-10  j-10-10-r-5-10  j-10-10-r-10-1  \\\n",
       "0         0.030878        0.028117        0.024133        0.025310   \n",
       "1         0.164693        0.112542        0.143484        0.133124   \n",
       "2         0.133057        0.153495        0.163058        0.220379   \n",
       "3         0.188815        0.153372        0.223446        0.173640   \n",
       "4         0.290612        0.210483        0.273035        0.254397   \n",
       "..             ...             ...             ...             ...   \n",
       "95        0.115642        0.122750        0.076433        0.155880   \n",
       "96        0.241543        0.275714        0.224693        0.268536   \n",
       "97        0.136516        0.203347        0.200389        0.133875   \n",
       "98        0.367611        0.325589        0.366916        0.356516   \n",
       "99        0.039696        0.034975        0.031937        0.046730   \n",
       "\n",
       "    j-10-10-r-10-2  j-10-10-r-10-5  j-10-10-r-10-10  \n",
       "0         0.024069        0.035052         0.025603  \n",
       "1         0.117784        0.122357         0.124681  \n",
       "2         0.165158        0.117178         0.117625  \n",
       "3         0.195069        0.169227         0.143714  \n",
       "4         0.314073        0.247100         0.253435  \n",
       "..             ...             ...              ...  \n",
       "95        0.168996        0.151422         0.077891  \n",
       "96        0.225982        0.197910         0.285035  \n",
       "97        0.087239        0.107484         0.131692  \n",
       "98        0.322043        0.369391         0.368373  \n",
       "99        0.030743        0.037885         0.030962  \n",
       "\n",
       "[100 rows x 7 columns]"
      ]
     },
     "execution_count": 94,
     "metadata": {},
     "output_type": "execute_result"
    }
   ],
   "source": [
    "all_scores"
   ]
  },
  {
   "cell_type": "code",
   "execution_count": 95,
   "id": "3492b878-fc6c-46ee-ade3-43af91cf4b83",
   "metadata": {},
   "outputs": [
    {
     "name": "stdout",
     "output_type": "stream",
     "text": [
      "WilcoxonResult(statistic=2444.0, pvalue=0.7806252551793645)\n",
      "WilcoxonResult(statistic=2244.0, pvalue=0.33395948157301447)\n",
      "WilcoxonResult(statistic=2392.0, pvalue=0.6474574389756316)\n"
     ]
    }
   ],
   "source": [
    "print(wilcoxon(all_scores['j-10-10-r-1-10'],all_scores['j-10-10-r-10-1']))\n",
    "print(wilcoxon(all_scores['j-10-10-r-2-10'],all_scores['j-10-10-r-10-2']))\n",
    "print(wilcoxon(all_scores['j-10-10-r-5-10'],all_scores['j-10-10-r-10-5']))"
   ]
  },
  {
   "cell_type": "code",
   "execution_count": 23,
   "id": "f41c46b9-2a25-4680-82a6-ad650efa2944",
   "metadata": {},
   "outputs": [],
   "source": [
    "from scipy.stats import wilcoxon, ranksums"
   ]
  },
  {
   "cell_type": "code",
   "execution_count": 55,
   "id": "7d0b2201-84f5-48d9-a682-b0c2e006425b",
   "metadata": {},
   "outputs": [
    {
     "data": {
      "text/plain": [
       "WilcoxonResult(statistic=2444.0, pvalue=0.7806252551793645)"
      ]
     },
     "execution_count": 55,
     "metadata": {},
     "output_type": "execute_result"
    }
   ],
   "source": [
    "wilcoxon(all_scores['j-10-10-r-1-10'],all_scores['j-10-10-r-10-1'])"
   ]
  },
  {
   "cell_type": "code",
   "execution_count": 18,
   "id": "2e2916bf-dbe7-450d-873d-d91e71cf81b8",
   "metadata": {},
   "outputs": [
    {
     "data": {
      "text/plain": [
       "['j-10-10-r-1-10',\n",
       " 'j-10-10-r-10-1',\n",
       " 'j-10-10-r-10-2',\n",
       " 'j-10-10-r-10-5',\n",
       " 'j-10-10-r-2-10',\n",
       " 'j-10-10-r-5-10']"
      ]
     },
     "execution_count": 18,
     "metadata": {},
     "output_type": "execute_result"
    }
   ],
   "source": [
    "schedules=['j-10-10-r-1-10','j-10-10-r-2-10', 'j-10-10-r-5-10','j-10-10-r-10-1','j-10-10-r-10-2','j-10-10-r-10-5','j-10-10-r-10-10']"
   ]
  },
  {
   "cell_type": "code",
   "execution_count": 25,
   "id": "ca1d55e7-809d-4056-be72-1b02ad06cdec",
   "metadata": {},
   "outputs": [],
   "source": [
    "mean = all_scores.mean().copy()"
   ]
  },
  {
   "cell_type": "markdown",
   "id": "a70d23e4-c693-4d82-85c3-90bc91cceb0d",
   "metadata": {},
   "source": [
    "---"
   ]
  },
  {
   "cell_type": "code",
   "execution_count": 127,
   "id": "84145233-8824-4689-b8b5-919245d392c5",
   "metadata": {},
   "outputs": [
    {
     "name": "stderr",
     "output_type": "stream",
     "text": [
      "100%|███████████████████████████████| 100/100 [00:02<00:00, 41.59it/s]\n",
      "100%|███████████████████████████████| 100/100 [00:02<00:00, 41.63it/s]\n",
      "100%|███████████████████████████████| 100/100 [00:02<00:00, 42.10it/s]\n",
      "100%|███████████████████████████████| 100/100 [00:02<00:00, 42.22it/s]\n"
     ]
    }
   ],
   "source": [
    "schedules=['j-10-10-r-1-5','j-10-10-r-2-5', 'j-10-10-r-5-1','j-10-10-r-5-2'] #,'j-10-10-r-5-5']\n",
    "all_scores = {}\n",
    "for schedule in schedules:\n",
    "    scores=[]\n",
    "    for idx in tqdm(range(100)):\n",
    "        original_path = f'{inet}/{schedule}/thick/gt/{idx:05d}.png'\n",
    "        inpaint_path = f'{inet}/{schedule}/thick/inpainted/{idx:05d}.png'\n",
    "        score = get_lpips(original_path,inpaint_path)\n",
    "        scores+=[score]\n",
    "    all_scores[schedule]=scores\n"
   ]
  },
  {
   "cell_type": "code",
   "execution_count": 128,
   "id": "33f26a31-6de0-4a24-af46-324fa93369e8",
   "metadata": {},
   "outputs": [],
   "source": [
    "all_scores=pd.DataFrame(all_scores)"
   ]
  },
  {
   "cell_type": "code",
   "execution_count": null,
   "id": "3476867b-9d05-4412-8c06-d2b9c1c19e22",
   "metadata": {},
   "outputs": [],
   "source": [
    "df = pd.read_csv('result-5-5.csv',index_col=0)\n",
    "all_scores['j-10-10-r-10-10']=df['test_inet256_thick']"
   ]
  },
  {
   "cell_type": "code",
   "execution_count": 130,
   "id": "91b127bc-1427-4cda-93cc-c1f11c7221a6",
   "metadata": {},
   "outputs": [
    {
     "name": "stdout",
     "output_type": "stream",
     "text": [
      "RanksumsResult(statistic=0.7696674994447229, pvalue=0.4414971537739699)\n",
      "RanksumsResult(statistic=0.19058433319583615, pvalue=0.8488512655032039)\n"
     ]
    }
   ],
   "source": [
    "print(ranksums(all_scores['j-10-10-r-1-5'],all_scores['j-10-10-r-5-1']))\n",
    "print(ranksums(all_scores['j-10-10-r-2-5'],all_scores['j-10-10-r-5-2']))"
   ]
  },
  {
   "cell_type": "code",
   "execution_count": 133,
   "id": "72e90610-a7d4-4d69-82b0-698300820e21",
   "metadata": {},
   "outputs": [
    {
     "data": {
      "text/plain": [
       "j-10-10-r-1-5    0.165419\n",
       "j-10-10-r-2-5    0.170652\n",
       "j-10-10-r-5-1    0.163138\n",
       "j-10-10-r-5-2    0.160805\n",
       "dtype: float64"
      ]
     },
     "execution_count": 133,
     "metadata": {},
     "output_type": "execute_result"
    }
   ],
   "source": [
    "all_scores.median()"
   ]
  },
  {
   "cell_type": "markdown",
   "id": "83bca06d-4896-4e95-8c60-5707598388a4",
   "metadata": {},
   "source": [
    "---"
   ]
  },
  {
   "cell_type": "code",
   "execution_count": 74,
   "id": "60948386-dc62-4387-956e-921f491f4a64",
   "metadata": {},
   "outputs": [
    {
     "name": "stderr",
     "output_type": "stream",
     "text": [
      "100%|███████████████████████████████████████████████████████████████████████████████████████████████████████████████████████████████████████████████████████████████████████████████| 100/100 [00:02<00:00, 38.95it/s]\n",
      "100%|███████████████████████████████████████████████████████████████████████████████████████████████████████████████████████████████████████████████████████████████████████████████| 100/100 [00:02<00:00, 41.15it/s]\n",
      "100%|███████████████████████████████████████████████████████████████████████████████████████████████████████████████████████████████████████████████████████████████████████████████| 100/100 [00:02<00:00, 43.40it/s]\n",
      "100%|███████████████████████████████████████████████████████████████████████████████████████████████████████████████████████████████████████████████████████████████████████████████| 100/100 [00:09<00:00, 10.44it/s]\n",
      "100%|███████████████████████████████████████████████████████████████████████████████████████████████████████████████████████████████████████████████████████████████████████████████| 100/100 [00:08<00:00, 12.01it/s]\n",
      "100%|███████████████████████████████████████████████████████████████████████████████████████████████████████████████████████████████████████████████████████████████████████████████| 100/100 [00:07<00:00, 13.00it/s]\n",
      "100%|███████████████████████████████████████████████████████████████████████████████████████████████████████████████████████████████████████████████████████████████████████████████| 100/100 [00:07<00:00, 12.98it/s]\n",
      "100%|███████████████████████████████████████████████████████████████████████████████████████████████████████████████████████████████████████████████████████████████████████████████| 100/100 [00:02<00:00, 40.90it/s]\n",
      "100%|███████████████████████████████████████████████████████████████████████████████████████████████████████████████████████████████████████████████████████████████████████████████| 100/100 [00:07<00:00, 13.41it/s]\n",
      "100%|███████████████████████████████████████████████████████████████████████████████████████████████████████████████████████████████████████████████████████████████████████████████| 100/100 [00:07<00:00, 14.21it/s]\n",
      "100%|███████████████████████████████████████████████████████████████████████████████████████████████████████████████████████████████████████████████████████████████████████████████| 100/100 [00:07<00:00, 13.49it/s]\n",
      "100%|███████████████████████████████████████████████████████████████████████████████████████████████████████████████████████████████████████████████████████████████████████████████| 100/100 [00:06<00:00, 14.45it/s]\n"
     ]
    }
   ],
   "source": [
    "schedules=['j-10-10-r-5-10','j-10-10-r-10-5']\n",
    "dfs={}\n",
    "for schedule in schedules:\n",
    "    all_scores = {}\n",
    "    for mask in masks:\n",
    "        scores=[]\n",
    "        for idx in tqdm(range(100)):\n",
    "            original_path = f'{inet}/{schedule}/{mask}/gt/{idx:05d}.png'\n",
    "            inpaint_path = f'{inet}/{schedule}/{mask}/inpainted/{idx:05d}.png'\n",
    "            score = get_lpips(original_path,inpaint_path)\n",
    "            scores+=[score]\n",
    "        all_scores[mask]=scores\n",
    "    dfs[schedule] = pd.DataFrame(all_scores)"
   ]
  },
  {
   "cell_type": "code",
   "execution_count": 109,
   "id": "ef86f19b-c1a9-4706-a15f-a113a05f5f86",
   "metadata": {},
   "outputs": [],
   "source": [
    "schedules=['j-10-10-r-5-10','j-10-10-r-10-5']\n"
   ]
  },
  {
   "cell_type": "code",
   "execution_count": 75,
   "id": "46b03dd2-1265-437c-a7c0-ad42d8e43289",
   "metadata": {},
   "outputs": [],
   "source": [
    "df=pd.concat(dfs,axis=0)\n",
    "# df.to_csv('results/inet-schedule.csv')"
   ]
  },
  {
   "cell_type": "code",
   "execution_count": 16,
   "id": "8e3bbc1f-68af-4cb5-9f93-19f44fca8677",
   "metadata": {},
   "outputs": [],
   "source": [
    "import pandas as pd"
   ]
  },
  {
   "cell_type": "code",
   "execution_count": 17,
   "id": "0caad393-ddd4-4d24-9c34-d22846d7f5e7",
   "metadata": {},
   "outputs": [],
   "source": [
    "df=pd.read_csv('results/inet-schedule.csv',index_col=[0,1])\n",
    "df_10_10 = pd.read_csv('result.csv',index_col=0)"
   ]
  },
  {
   "cell_type": "code",
   "execution_count": 35,
   "id": "8686c5f9-7852-4f6f-b3d5-f7d5e426fb36",
   "metadata": {},
   "outputs": [
    {
     "name": "stdout",
     "output_type": "stream",
     "text": [
      "thin WilcoxonResult(statistic=1863.0, pvalue=0.022835774122669367)\n",
      "thick WilcoxonResult(statistic=2038.0, pvalue=0.0940394048068533)\n",
      "nn2 WilcoxonResult(statistic=2366.0, pvalue=0.5845892174029008)\n",
      "genhalf WilcoxonResult(statistic=2442.0, pvalue=0.7753522914731348)\n",
      "ex64 WilcoxonResult(statistic=2501.0, pvalue=0.9342333768907125)\n",
      "ev2li WilcoxonResult(statistic=2516.0, pvalue=0.9753134632163343)\n"
     ]
    }
   ],
   "source": [
    "for mask in masks:\n",
    "    print(mask,wilcoxon(df.loc['j-10-10-r-5-10'][mask],df_10_10[f'test_inet256_{mask}']))"
   ]
  },
  {
   "cell_type": "code",
   "execution_count": 33,
   "id": "c4c425c4-5338-44ae-bdba-7ed12f22fc05",
   "metadata": {},
   "outputs": [
    {
     "name": "stdout",
     "output_type": "stream",
     "text": [
      "thin WilcoxonResult(statistic=1036.0, pvalue=3.060777495341062e-07)\n",
      "thick WilcoxonResult(statistic=2280.0, pvalue=0.3995699198907845)\n",
      "nn2 WilcoxonResult(statistic=203.0, pvalue=1.4190703440363424e-15)\n",
      "genhalf WilcoxonResult(statistic=2249.0, pvalue=0.3426319759495927)\n",
      "ex64 WilcoxonResult(statistic=1912.0, pvalue=0.035057542018110247)\n",
      "ev2li WilcoxonResult(statistic=565.0, pvalue=1.5935238620875786e-11)\n"
     ]
    }
   ],
   "source": [
    "for mask in masks:\n",
    "    print(mask,wilcoxon(df.loc['j-10-10-r-10-5'][mask],df_10_10[f'test_inet256_{mask}']))"
   ]
  },
  {
   "cell_type": "code",
   "execution_count": 20,
   "id": "092fb533-aae0-4e5f-b56e-7f9c19ec0220",
   "metadata": {},
   "outputs": [
    {
     "data": {
      "text/html": [
       "<div>\n",
       "<style scoped>\n",
       "    .dataframe tbody tr th:only-of-type {\n",
       "        vertical-align: middle;\n",
       "    }\n",
       "\n",
       "    .dataframe tbody tr th {\n",
       "        vertical-align: top;\n",
       "    }\n",
       "\n",
       "    .dataframe thead th {\n",
       "        text-align: right;\n",
       "    }\n",
       "</style>\n",
       "<table border=\"1\" class=\"dataframe\">\n",
       "  <thead>\n",
       "    <tr style=\"text-align: right;\">\n",
       "      <th></th>\n",
       "      <th>thin</th>\n",
       "      <th>thick</th>\n",
       "      <th>nn2</th>\n",
       "      <th>genhalf</th>\n",
       "      <th>ex64</th>\n",
       "      <th>ev2li</th>\n",
       "    </tr>\n",
       "  </thead>\n",
       "  <tbody>\n",
       "    <tr>\n",
       "      <th>0</th>\n",
       "      <td>0.086457</td>\n",
       "      <td>0.024133</td>\n",
       "      <td>0.192982</td>\n",
       "      <td>0.362330</td>\n",
       "      <td>0.756353</td>\n",
       "      <td>0.109363</td>\n",
       "    </tr>\n",
       "    <tr>\n",
       "      <th>1</th>\n",
       "      <td>0.115320</td>\n",
       "      <td>0.143484</td>\n",
       "      <td>0.234756</td>\n",
       "      <td>0.422835</td>\n",
       "      <td>0.943870</td>\n",
       "      <td>0.080621</td>\n",
       "    </tr>\n",
       "    <tr>\n",
       "      <th>2</th>\n",
       "      <td>0.027243</td>\n",
       "      <td>0.163058</td>\n",
       "      <td>0.090105</td>\n",
       "      <td>0.370616</td>\n",
       "      <td>0.836429</td>\n",
       "      <td>0.051708</td>\n",
       "    </tr>\n",
       "    <tr>\n",
       "      <th>3</th>\n",
       "      <td>0.014694</td>\n",
       "      <td>0.223446</td>\n",
       "      <td>0.391042</td>\n",
       "      <td>0.491876</td>\n",
       "      <td>0.833070</td>\n",
       "      <td>0.314021</td>\n",
       "    </tr>\n",
       "    <tr>\n",
       "      <th>4</th>\n",
       "      <td>0.032289</td>\n",
       "      <td>0.273035</td>\n",
       "      <td>0.015773</td>\n",
       "      <td>0.381206</td>\n",
       "      <td>0.834844</td>\n",
       "      <td>0.008481</td>\n",
       "    </tr>\n",
       "    <tr>\n",
       "      <th>...</th>\n",
       "      <td>...</td>\n",
       "      <td>...</td>\n",
       "      <td>...</td>\n",
       "      <td>...</td>\n",
       "      <td>...</td>\n",
       "      <td>...</td>\n",
       "    </tr>\n",
       "    <tr>\n",
       "      <th>95</th>\n",
       "      <td>0.036639</td>\n",
       "      <td>0.076433</td>\n",
       "      <td>0.065164</td>\n",
       "      <td>0.309052</td>\n",
       "      <td>0.668080</td>\n",
       "      <td>0.031770</td>\n",
       "    </tr>\n",
       "    <tr>\n",
       "      <th>96</th>\n",
       "      <td>0.007924</td>\n",
       "      <td>0.224693</td>\n",
       "      <td>0.174700</td>\n",
       "      <td>0.386199</td>\n",
       "      <td>0.780370</td>\n",
       "      <td>0.104353</td>\n",
       "    </tr>\n",
       "    <tr>\n",
       "      <th>97</th>\n",
       "      <td>0.078761</td>\n",
       "      <td>0.200389</td>\n",
       "      <td>0.438599</td>\n",
       "      <td>0.378098</td>\n",
       "      <td>0.814722</td>\n",
       "      <td>0.230963</td>\n",
       "    </tr>\n",
       "    <tr>\n",
       "      <th>98</th>\n",
       "      <td>0.119055</td>\n",
       "      <td>0.366916</td>\n",
       "      <td>0.348415</td>\n",
       "      <td>0.394839</td>\n",
       "      <td>0.693062</td>\n",
       "      <td>0.168775</td>\n",
       "    </tr>\n",
       "    <tr>\n",
       "      <th>99</th>\n",
       "      <td>0.116010</td>\n",
       "      <td>0.031937</td>\n",
       "      <td>0.247493</td>\n",
       "      <td>0.314590</td>\n",
       "      <td>0.702147</td>\n",
       "      <td>0.197362</td>\n",
       "    </tr>\n",
       "  </tbody>\n",
       "</table>\n",
       "<p>100 rows × 6 columns</p>\n",
       "</div>"
      ],
      "text/plain": [
       "        thin     thick       nn2   genhalf      ex64     ev2li\n",
       "0   0.086457  0.024133  0.192982  0.362330  0.756353  0.109363\n",
       "1   0.115320  0.143484  0.234756  0.422835  0.943870  0.080621\n",
       "2   0.027243  0.163058  0.090105  0.370616  0.836429  0.051708\n",
       "3   0.014694  0.223446  0.391042  0.491876  0.833070  0.314021\n",
       "4   0.032289  0.273035  0.015773  0.381206  0.834844  0.008481\n",
       "..       ...       ...       ...       ...       ...       ...\n",
       "95  0.036639  0.076433  0.065164  0.309052  0.668080  0.031770\n",
       "96  0.007924  0.224693  0.174700  0.386199  0.780370  0.104353\n",
       "97  0.078761  0.200389  0.438599  0.378098  0.814722  0.230963\n",
       "98  0.119055  0.366916  0.348415  0.394839  0.693062  0.168775\n",
       "99  0.116010  0.031937  0.247493  0.314590  0.702147  0.197362\n",
       "\n",
       "[100 rows x 6 columns]"
      ]
     },
     "execution_count": 20,
     "metadata": {},
     "output_type": "execute_result"
    }
   ],
   "source": [
    "df.loc['j-10-10-r-5-10']"
   ]
  },
  {
   "cell_type": "code",
   "execution_count": 108,
   "id": "ba30ba32-f2c2-460b-8f58-842f3e8ca202",
   "metadata": {},
   "outputs": [
    {
     "data": {
      "text/html": [
       "<div>\n",
       "<style scoped>\n",
       "    .dataframe tbody tr th:only-of-type {\n",
       "        vertical-align: middle;\n",
       "    }\n",
       "\n",
       "    .dataframe tbody tr th {\n",
       "        vertical-align: top;\n",
       "    }\n",
       "\n",
       "    .dataframe thead th {\n",
       "        text-align: right;\n",
       "    }\n",
       "</style>\n",
       "<table border=\"1\" class=\"dataframe\">\n",
       "  <thead>\n",
       "    <tr style=\"text-align: right;\">\n",
       "      <th></th>\n",
       "      <th></th>\n",
       "      <th>thin</th>\n",
       "      <th>thick</th>\n",
       "      <th>nn2</th>\n",
       "      <th>genhalf</th>\n",
       "      <th>ex64</th>\n",
       "      <th>ev2li</th>\n",
       "    </tr>\n",
       "  </thead>\n",
       "  <tbody>\n",
       "    <tr>\n",
       "      <th rowspan=\"5\" valign=\"top\">j-10-10-r-5-10</th>\n",
       "      <th>0</th>\n",
       "      <td>0.086457</td>\n",
       "      <td>0.024133</td>\n",
       "      <td>0.192982</td>\n",
       "      <td>0.362330</td>\n",
       "      <td>0.756353</td>\n",
       "      <td>0.109363</td>\n",
       "    </tr>\n",
       "    <tr>\n",
       "      <th>1</th>\n",
       "      <td>0.115320</td>\n",
       "      <td>0.143484</td>\n",
       "      <td>0.234756</td>\n",
       "      <td>0.422835</td>\n",
       "      <td>0.943870</td>\n",
       "      <td>0.080621</td>\n",
       "    </tr>\n",
       "    <tr>\n",
       "      <th>2</th>\n",
       "      <td>0.027243</td>\n",
       "      <td>0.163058</td>\n",
       "      <td>0.090105</td>\n",
       "      <td>0.370616</td>\n",
       "      <td>0.836429</td>\n",
       "      <td>0.051708</td>\n",
       "    </tr>\n",
       "    <tr>\n",
       "      <th>3</th>\n",
       "      <td>0.014694</td>\n",
       "      <td>0.223446</td>\n",
       "      <td>0.391042</td>\n",
       "      <td>0.491876</td>\n",
       "      <td>0.833070</td>\n",
       "      <td>0.314021</td>\n",
       "    </tr>\n",
       "    <tr>\n",
       "      <th>4</th>\n",
       "      <td>0.032289</td>\n",
       "      <td>0.273035</td>\n",
       "      <td>0.015773</td>\n",
       "      <td>0.381206</td>\n",
       "      <td>0.834844</td>\n",
       "      <td>0.008481</td>\n",
       "    </tr>\n",
       "    <tr>\n",
       "      <th>...</th>\n",
       "      <th>...</th>\n",
       "      <td>...</td>\n",
       "      <td>...</td>\n",
       "      <td>...</td>\n",
       "      <td>...</td>\n",
       "      <td>...</td>\n",
       "      <td>...</td>\n",
       "    </tr>\n",
       "    <tr>\n",
       "      <th rowspan=\"5\" valign=\"top\">j-10-10-r-10-5</th>\n",
       "      <th>95</th>\n",
       "      <td>0.047521</td>\n",
       "      <td>0.151422</td>\n",
       "      <td>0.066974</td>\n",
       "      <td>0.200063</td>\n",
       "      <td>0.780501</td>\n",
       "      <td>0.051436</td>\n",
       "    </tr>\n",
       "    <tr>\n",
       "      <th>96</th>\n",
       "      <td>0.007894</td>\n",
       "      <td>0.197910</td>\n",
       "      <td>0.366538</td>\n",
       "      <td>0.386985</td>\n",
       "      <td>0.695681</td>\n",
       "      <td>0.113742</td>\n",
       "    </tr>\n",
       "    <tr>\n",
       "      <th>97</th>\n",
       "      <td>0.085838</td>\n",
       "      <td>0.107484</td>\n",
       "      <td>0.663327</td>\n",
       "      <td>0.333923</td>\n",
       "      <td>0.793156</td>\n",
       "      <td>0.377475</td>\n",
       "    </tr>\n",
       "    <tr>\n",
       "      <th>98</th>\n",
       "      <td>0.109134</td>\n",
       "      <td>0.369391</td>\n",
       "      <td>0.491468</td>\n",
       "      <td>0.341756</td>\n",
       "      <td>0.621317</td>\n",
       "      <td>0.144441</td>\n",
       "    </tr>\n",
       "    <tr>\n",
       "      <th>99</th>\n",
       "      <td>0.141053</td>\n",
       "      <td>0.037885</td>\n",
       "      <td>0.481696</td>\n",
       "      <td>0.365247</td>\n",
       "      <td>0.626400</td>\n",
       "      <td>0.277885</td>\n",
       "    </tr>\n",
       "  </tbody>\n",
       "</table>\n",
       "<p>200 rows × 6 columns</p>\n",
       "</div>"
      ],
      "text/plain": [
       "                       thin     thick       nn2   genhalf      ex64     ev2li\n",
       "j-10-10-r-5-10 0   0.086457  0.024133  0.192982  0.362330  0.756353  0.109363\n",
       "               1   0.115320  0.143484  0.234756  0.422835  0.943870  0.080621\n",
       "               2   0.027243  0.163058  0.090105  0.370616  0.836429  0.051708\n",
       "               3   0.014694  0.223446  0.391042  0.491876  0.833070  0.314021\n",
       "               4   0.032289  0.273035  0.015773  0.381206  0.834844  0.008481\n",
       "...                     ...       ...       ...       ...       ...       ...\n",
       "j-10-10-r-10-5 95  0.047521  0.151422  0.066974  0.200063  0.780501  0.051436\n",
       "               96  0.007894  0.197910  0.366538  0.386985  0.695681  0.113742\n",
       "               97  0.085838  0.107484  0.663327  0.333923  0.793156  0.377475\n",
       "               98  0.109134  0.369391  0.491468  0.341756  0.621317  0.144441\n",
       "               99  0.141053  0.037885  0.481696  0.365247  0.626400  0.277885\n",
       "\n",
       "[200 rows x 6 columns]"
      ]
     },
     "execution_count": 108,
     "metadata": {},
     "output_type": "execute_result"
    }
   ],
   "source": [
    "df.loc['j-10-10-r-1-10']"
   ]
  },
  {
   "cell_type": "code",
   "execution_count": 120,
   "id": "466a3112-a9fa-4801-9fd4-1901264025c3",
   "metadata": {},
   "outputs": [
    {
     "data": {
      "text/html": [
       "<div>\n",
       "<style scoped>\n",
       "    .dataframe tbody tr th:only-of-type {\n",
       "        vertical-align: middle;\n",
       "    }\n",
       "\n",
       "    .dataframe tbody tr th {\n",
       "        vertical-align: top;\n",
       "    }\n",
       "\n",
       "    .dataframe thead th {\n",
       "        text-align: right;\n",
       "    }\n",
       "</style>\n",
       "<table border=\"1\" class=\"dataframe\">\n",
       "  <thead>\n",
       "    <tr style=\"text-align: right;\">\n",
       "      <th></th>\n",
       "      <th></th>\n",
       "      <th>thin</th>\n",
       "      <th>thick</th>\n",
       "      <th>nn2</th>\n",
       "      <th>genhalf</th>\n",
       "      <th>ex64</th>\n",
       "      <th>ev2li</th>\n",
       "    </tr>\n",
       "  </thead>\n",
       "  <tbody>\n",
       "    <tr>\n",
       "      <th rowspan=\"5\" valign=\"top\">j-10-10-r-5-10</th>\n",
       "      <th>0</th>\n",
       "      <td>0.086457</td>\n",
       "      <td>0.024133</td>\n",
       "      <td>0.192982</td>\n",
       "      <td>0.362330</td>\n",
       "      <td>0.756353</td>\n",
       "      <td>0.109363</td>\n",
       "    </tr>\n",
       "    <tr>\n",
       "      <th>1</th>\n",
       "      <td>0.115320</td>\n",
       "      <td>0.143484</td>\n",
       "      <td>0.234756</td>\n",
       "      <td>0.422835</td>\n",
       "      <td>0.943870</td>\n",
       "      <td>0.080621</td>\n",
       "    </tr>\n",
       "    <tr>\n",
       "      <th>2</th>\n",
       "      <td>0.027243</td>\n",
       "      <td>0.163058</td>\n",
       "      <td>0.090105</td>\n",
       "      <td>0.370616</td>\n",
       "      <td>0.836429</td>\n",
       "      <td>0.051708</td>\n",
       "    </tr>\n",
       "    <tr>\n",
       "      <th>3</th>\n",
       "      <td>0.014694</td>\n",
       "      <td>0.223446</td>\n",
       "      <td>0.391042</td>\n",
       "      <td>0.491876</td>\n",
       "      <td>0.833070</td>\n",
       "      <td>0.314021</td>\n",
       "    </tr>\n",
       "    <tr>\n",
       "      <th>4</th>\n",
       "      <td>0.032289</td>\n",
       "      <td>0.273035</td>\n",
       "      <td>0.015773</td>\n",
       "      <td>0.381206</td>\n",
       "      <td>0.834844</td>\n",
       "      <td>0.008481</td>\n",
       "    </tr>\n",
       "    <tr>\n",
       "      <th>...</th>\n",
       "      <th>...</th>\n",
       "      <td>...</td>\n",
       "      <td>...</td>\n",
       "      <td>...</td>\n",
       "      <td>...</td>\n",
       "      <td>...</td>\n",
       "      <td>...</td>\n",
       "    </tr>\n",
       "    <tr>\n",
       "      <th rowspan=\"5\" valign=\"top\">j-10-10-r-10-5</th>\n",
       "      <th>95</th>\n",
       "      <td>0.047521</td>\n",
       "      <td>0.151422</td>\n",
       "      <td>0.066974</td>\n",
       "      <td>0.200063</td>\n",
       "      <td>0.780501</td>\n",
       "      <td>0.051436</td>\n",
       "    </tr>\n",
       "    <tr>\n",
       "      <th>96</th>\n",
       "      <td>0.007894</td>\n",
       "      <td>0.197910</td>\n",
       "      <td>0.366538</td>\n",
       "      <td>0.386985</td>\n",
       "      <td>0.695681</td>\n",
       "      <td>0.113742</td>\n",
       "    </tr>\n",
       "    <tr>\n",
       "      <th>97</th>\n",
       "      <td>0.085838</td>\n",
       "      <td>0.107484</td>\n",
       "      <td>0.663327</td>\n",
       "      <td>0.333923</td>\n",
       "      <td>0.793156</td>\n",
       "      <td>0.377475</td>\n",
       "    </tr>\n",
       "    <tr>\n",
       "      <th>98</th>\n",
       "      <td>0.109134</td>\n",
       "      <td>0.369391</td>\n",
       "      <td>0.491468</td>\n",
       "      <td>0.341756</td>\n",
       "      <td>0.621317</td>\n",
       "      <td>0.144441</td>\n",
       "    </tr>\n",
       "    <tr>\n",
       "      <th>99</th>\n",
       "      <td>0.141053</td>\n",
       "      <td>0.037885</td>\n",
       "      <td>0.481696</td>\n",
       "      <td>0.365247</td>\n",
       "      <td>0.626400</td>\n",
       "      <td>0.277885</td>\n",
       "    </tr>\n",
       "  </tbody>\n",
       "</table>\n",
       "<p>200 rows × 6 columns</p>\n",
       "</div>"
      ],
      "text/plain": [
       "                       thin     thick       nn2   genhalf      ex64     ev2li\n",
       "j-10-10-r-5-10 0   0.086457  0.024133  0.192982  0.362330  0.756353  0.109363\n",
       "               1   0.115320  0.143484  0.234756  0.422835  0.943870  0.080621\n",
       "               2   0.027243  0.163058  0.090105  0.370616  0.836429  0.051708\n",
       "               3   0.014694  0.223446  0.391042  0.491876  0.833070  0.314021\n",
       "               4   0.032289  0.273035  0.015773  0.381206  0.834844  0.008481\n",
       "...                     ...       ...       ...       ...       ...       ...\n",
       "j-10-10-r-10-5 95  0.047521  0.151422  0.066974  0.200063  0.780501  0.051436\n",
       "               96  0.007894  0.197910  0.366538  0.386985  0.695681  0.113742\n",
       "               97  0.085838  0.107484  0.663327  0.333923  0.793156  0.377475\n",
       "               98  0.109134  0.369391  0.491468  0.341756  0.621317  0.144441\n",
       "               99  0.141053  0.037885  0.481696  0.365247  0.626400  0.277885\n",
       "\n",
       "[200 rows x 6 columns]"
      ]
     },
     "execution_count": 120,
     "metadata": {},
     "output_type": "execute_result"
    }
   ],
   "source": []
  },
  {
   "cell_type": "code",
   "execution_count": 112,
   "id": "a17c4f58-e52f-4189-8f6f-b347476ba4eb",
   "metadata": {},
   "outputs": [
    {
     "name": "stdout",
     "output_type": "stream",
     "text": [
      "thin 0.0005021915186106701\n",
      "thick 0.6474574389756316\n",
      "nn2 4.690843471216412e-14\n",
      "genhalf 0.11852387379698198\n",
      "ex64 0.01974364659467001\n",
      "ev2li 2.1653096484327378e-11\n"
     ]
    }
   ],
   "source": [
    "for mask in masks:\n",
    "    print(mask, '{}'.format(wilcoxon(df.loc[schedules[0]][mask],df.loc[schedules[1]][mask]).pvalue))"
   ]
  },
  {
   "cell_type": "code",
   "execution_count": 113,
   "id": "ad676943-0997-4498-a24d-bb9b96d59627",
   "metadata": {},
   "outputs": [
    {
     "name": "stdout",
     "output_type": "stream",
     "text": [
      "thin 0.5413007280472231\n",
      "thick 0.9474005157521747\n",
      "nn2 0.0005553999824810748\n",
      "genhalf 0.07251188080834352\n",
      "ex64 0.14735724106992643\n",
      "ev2li 0.047799683371712996\n"
     ]
    }
   ],
   "source": [
    "for mask in masks:\n",
    "    print(mask, '{}'.format(ranksums(df.loc[schedules[0]][mask],df.loc[schedules[1]][mask]).pvalue))"
   ]
  },
  {
   "cell_type": "markdown",
   "id": "b2c0eeee-5d33-4a0b-b17b-018f7575b9e9",
   "metadata": {},
   "source": [
    "---"
   ]
  },
  {
   "cell_type": "code",
   "execution_count": null,
   "id": "5428496e-d13d-4099-9ab2-e26bb354f62c",
   "metadata": {},
   "outputs": [],
   "source": [
    "schedules=['j-10-10-r-5-10','j-10-10-r-10-5']\n",
    "dfs={}\n",
    "for schedule in schedules:\n",
    "    all_scores = {}\n",
    "    for mask in masks:\n",
    "        scores=[]\n",
    "        for idx in tqdm(range(100)):\n",
    "            original_path = f'{photo_path}/{schedule}/{mask}/gt/{idx:05d}.png'\n",
    "            inpaint_path = f'{photo_path}/{schedule}/{mask}/inpainted/{idx:05d}.png'\n",
    "            score = get_lpips(original_path,inpaint_path)\n",
    "            scores+=[score]\n",
    "        all_scores[mask]=scores\n",
    "    dfs[schedule] = pd.DataFrame(all_scores)"
   ]
  },
  {
   "cell_type": "code",
   "execution_count": 136,
   "id": "881777cd-f340-49cc-b431-4f5ad754fedf",
   "metadata": {},
   "outputs": [],
   "source": [
    "df=pd.concat(dfs,axis=0)\n",
    "df.to_csv('results/photo-schedule.csv')"
   ]
  },
  {
   "cell_type": "code",
   "execution_count": 137,
   "id": "cd392fb7-a632-480b-b9bb-e0e61bacf0b8",
   "metadata": {},
   "outputs": [],
   "source": [
    "df=pd.read_csv('results/photo-schedule.csv',index_col=[0,1])\n",
    "# df_10_10 = pd.read_csv('result.csv',index_col=0)"
   ]
  },
  {
   "cell_type": "code",
   "execution_count": 143,
   "id": "30b9d76d-c056-454b-9b67-085e4af00775",
   "metadata": {},
   "outputs": [
    {
     "data": {
      "text/plain": [
       "thin       0.080440\n",
       "thick      0.158258\n",
       "nn2        0.232301\n",
       "genhalf    0.364707\n",
       "ex64       0.748164\n",
       "ev2li      0.120482\n",
       "dtype: float64"
      ]
     },
     "execution_count": 143,
     "metadata": {},
     "output_type": "execute_result"
    }
   ],
   "source": [
    "df.loc['j-10-10-r-5-10'].mean()"
   ]
  },
  {
   "cell_type": "code",
   "execution_count": 144,
   "id": "c52385f6-c983-44d3-9334-c2a4fef6ca28",
   "metadata": {},
   "outputs": [
    {
     "data": {
      "text/plain": [
       "thin       0.086229\n",
       "thick      0.156801\n",
       "nn2        0.309830\n",
       "genhalf    0.355017\n",
       "ex64       0.732238\n",
       "ev2li      0.143456\n",
       "dtype: float64"
      ]
     },
     "execution_count": 144,
     "metadata": {},
     "output_type": "execute_result"
    }
   ],
   "source": [
    "df.loc['j-10-10-r-10-5'].mean()"
   ]
  },
  {
   "cell_type": "code",
   "execution_count": 139,
   "id": "d7a9b24b-d281-4176-9fc5-c8414568fe1f",
   "metadata": {},
   "outputs": [
    {
     "name": "stdout",
     "output_type": "stream",
     "text": [
      "thin 0.0005021915186106701\n",
      "thick 0.6474574389756316\n",
      "nn2 4.690843471216412e-14\n",
      "genhalf 0.11852387379698198\n",
      "ex64 0.01974364659467001\n",
      "ev2li 2.1653096484327378e-11\n"
     ]
    }
   ],
   "source": [
    "for mask in masks:\n",
    "    print(mask, '{}'.format(wilcoxon(df.loc[schedules[0]][mask],df.loc[schedules[1]][mask]).pvalue))"
   ]
  },
  {
   "cell_type": "code",
   "execution_count": 140,
   "id": "ac9119d3-bfb3-4e91-a541-f2de7baf31cc",
   "metadata": {},
   "outputs": [
    {
     "name": "stdout",
     "output_type": "stream",
     "text": [
      "thin 0.5413007280472231\n",
      "thick 0.9474005157521747\n",
      "nn2 0.0005553999824810748\n",
      "genhalf 0.07251188080834352\n",
      "ex64 0.14735724106992643\n",
      "ev2li 0.047799683371712996\n"
     ]
    }
   ],
   "source": [
    "for mask in masks:\n",
    "    print(mask, '{}'.format(ranksums(df.loc[schedules[0]][mask],df.loc[schedules[1]][mask]).pvalue))"
   ]
  },
  {
   "cell_type": "markdown",
   "id": "287a3267-74d7-49a7-a53f-9b7f7dcfff9a",
   "metadata": {},
   "source": [
    "---"
   ]
  },
  {
   "cell_type": "code",
   "execution_count": null,
   "id": "85497a8e-87eb-4876-86be-d0e84175c873",
   "metadata": {},
   "outputs": [],
   "source": [
    "result.csv"
   ]
  },
  {
   "cell_type": "code",
   "execution_count": 115,
   "id": "c8f1fac2-efd8-4a7a-a9fd-96954e0e1220",
   "metadata": {},
   "outputs": [],
   "source": []
  },
  {
   "cell_type": "code",
   "execution_count": null,
   "id": "55324c77-b0d8-4849-8154-7b02d280d640",
   "metadata": {},
   "outputs": [],
   "source": []
  },
  {
   "cell_type": "code",
   "execution_count": null,
   "id": "3a46072c-ba6a-43c9-9728-33a03564c977",
   "metadata": {},
   "outputs": [],
   "source": [
    "for mask in masks:\n",
    "    print(mask, '{}'.format(ranksums(df.loc[schedules[0]][mask],df.loc[schedules[1]][mask]).pvalue))"
   ]
  },
  {
   "cell_type": "code",
   "execution_count": 78,
   "id": "727a9b90-13e2-488d-aa3b-4dd881c230a1",
   "metadata": {},
   "outputs": [
    {
     "data": {
      "text/plain": [
       "thin       0.086229\n",
       "thick      0.156801\n",
       "nn2        0.309830\n",
       "genhalf    0.355017\n",
       "ex64       0.732238\n",
       "ev2li      0.143456\n",
       "dtype: float64"
      ]
     },
     "execution_count": 78,
     "metadata": {},
     "output_type": "execute_result"
    }
   ],
   "source": [
    "df.loc[schedules[1]].mean()"
   ]
  },
  {
   "cell_type": "markdown",
   "id": "cf517bbd-004d-4a16-96ed-50eae24c20ce",
   "metadata": {},
   "source": [
    "---"
   ]
  },
  {
   "cell_type": "code",
   "execution_count": null,
   "id": "478715de-6187-4415-bce8-6a3e3941a9ae",
   "metadata": {},
   "outputs": [],
   "source": [
    "for schedule in os.listdir(inet):\n",
    "    for mask in os.listdir(f'{inet}/{schedule}'):\n",
    "        print(f'{inet}/{schedule}/{mask}/inpainted', len(os.listdir(f'{inet}/{schedule}/{mask}/inpainted')))"
   ]
  },
  {
   "cell_type": "code",
   "execution_count": 122,
   "id": "d9bd9cbb-dd6d-4a87-9f50-40006d1ce51d",
   "metadata": {},
   "outputs": [
    {
     "name": "stderr",
     "output_type": "stream",
     "text": [
      "100%|███████████████████████████████████████████████████████████████████████████████████████████████████████████████████████████████████████████████████████████████████████████████| 100/100 [00:02<00:00, 40.07it/s]\n",
      "100%|███████████████████████████████████████████████████████████████████████████████████████████████████████████████████████████████████████████████████████████████████████████████| 100/100 [00:05<00:00, 18.16it/s]\n",
      "100%|███████████████████████████████████████████████████████████████████████████████████████████████████████████████████████████████████████████████████████████████████████████████| 100/100 [00:05<00:00, 17.59it/s]\n",
      "100%|███████████████████████████████████████████████████████████████████████████████████████████████████████████████████████████████████████████████████████████████████████████████| 100/100 [00:05<00:00, 17.76it/s]\n",
      "100%|███████████████████████████████████████████████████████████████████████████████████████████████████████████████████████████████████████████████████████████████████████████████| 100/100 [00:05<00:00, 18.16it/s]\n",
      "100%|███████████████████████████████████████████████████████████████████████████████████████████████████████████████████████████████████████████████████████████████████████████████| 100/100 [00:05<00:00, 18.23it/s]\n"
     ]
    }
   ],
   "source": [
    "workdir='logs/c256/'\n",
    "all_scores = {}\n",
    "for mask in masks:\n",
    "    scores=[]\n",
    "    for idx in tqdm(range(100)):\n",
    "        original_path = f'{workdir}/{mask}/gt/{idx:05d}.png'\n",
    "        inpaint_path = f'{workdir}/{mask}/inpainted/{idx:05d}.png'\n",
    "        score = get_lpips(original_path,inpaint_path)\n",
    "        scores+=[score]\n",
    "    all_scores[mask]=scores\n",
    "all_scores=all_scores=pd.DataFrame(all_scores)\n",
    "all_scores.to_csv('results/result-c256-celba.csv')"
   ]
  },
  {
   "cell_type": "code",
   "execution_count": 125,
   "id": "d970b946-9954-4b3d-86eb-c943bdc7a386",
   "metadata": {},
   "outputs": [
    {
     "data": {
      "text/plain": [
       "thin       0.038742\n",
       "thick      0.101386\n",
       "nn2        0.092711\n",
       "genhalf    0.285315\n",
       "ex64       0.656029\n",
       "ev2li      0.045978\n",
       "dtype: float64"
      ]
     },
     "execution_count": 125,
     "metadata": {},
     "output_type": "execute_result"
    }
   ],
   "source": [
    "all_scores.mean()"
   ]
  }
 ],
 "metadata": {
  "kernelspec": {
   "display_name": "repaint",
   "language": "python",
   "name": "repaint"
  },
  "language_info": {
   "codemirror_mode": {
    "name": "ipython",
    "version": 3
   },
   "file_extension": ".py",
   "mimetype": "text/x-python",
   "name": "python",
   "nbconvert_exporter": "python",
   "pygments_lexer": "ipython3",
   "version": "3.9.13"
  }
 },
 "nbformat": 4,
 "nbformat_minor": 5
}
